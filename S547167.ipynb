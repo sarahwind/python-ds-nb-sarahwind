{
 "cells": [
  {
   "cell_type": "markdown",
   "id": "1164a635-238b-4254-8346-db9a9d5d6792",
   "metadata": {},
   "source": [
    "Sarah Windeknecht: Star Pattern"
   ]
  },
  {
   "cell_type": "code",
   "execution_count": 4,
   "id": "5333e58b-af57-42a7-a1cb-bd79584b6adb",
   "metadata": {},
   "outputs": [
    {
     "name": "stdout",
     "output_type": "stream",
     "text": [
      "*     *\n",
      "**   **\n",
      "*** ***\n",
      "*******\n"
     ]
    }
   ],
   "source": [
    "row = 4\n",
    "\n",
    "for i in range(1,5):\n",
    "    for j in range(1,8):\n",
    "        if j<=i or j>=8-i:\n",
    "            print(\"*\",end=\"\")\n",
    "        else:\n",
    "            print(\" \", end=\"\")\n",
    "    print(\"\\r\")"
   ]
  },
  {
   "cell_type": "code",
   "execution_count": null,
   "id": "1ae8a7a2-2a1b-4c95-80e5-921a4539d952",
   "metadata": {},
   "outputs": [],
   "source": []
  }
 ],
 "metadata": {
  "kernelspec": {
   "display_name": "Python 3 (ipykernel)",
   "language": "python",
   "name": "python3"
  },
  "language_info": {
   "codemirror_mode": {
    "name": "ipython",
    "version": 3
   },
   "file_extension": ".py",
   "mimetype": "text/x-python",
   "name": "python",
   "nbconvert_exporter": "python",
   "pygments_lexer": "ipython3",
   "version": "3.9.7"
  }
 },
 "nbformat": 4,
 "nbformat_minor": 5
}
